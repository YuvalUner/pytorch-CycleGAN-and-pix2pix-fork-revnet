{
 "cells": [
  {
   "cell_type": "code",
   "id": "initial_id",
   "metadata": {
    "collapsed": true,
    "ExecuteTime": {
     "end_time": "2024-05-12T17:04:57.577025Z",
     "start_time": "2024-05-12T17:04:50.300141Z"
    }
   },
   "source": "!bash ./datasets/download_cyclegan_dataset.sh horse2zebra",
   "outputs": [
    {
     "name": "stderr",
     "output_type": "stream",
     "text": [
      "./datasets/download_cyclegan_dataset.sh: line 2: $'\\r': command not found\n",
      "./datasets/download_cyclegan_dataset.sh: line 22: syntax error: unexpected end of file\n"
     ]
    }
   ],
   "execution_count": 1
  },
  {
   "metadata": {},
   "cell_type": "code",
   "outputs": [],
   "execution_count": null,
   "source": "!python train.py --dataroot /kaggle/working/pytorch-CycleGAN-and-pix2pix/datasets/horse2zebra --name horse2zebra --model revnet_gan --display_id -1 --batch_size 1 --netG revnet --n_epochs 4 --n_epochs_decay 1",
   "id": "b351392a188c65b1"
  }
 ],
 "metadata": {
  "kernelspec": {
   "display_name": "Python 3",
   "language": "python",
   "name": "python3"
  },
  "language_info": {
   "codemirror_mode": {
    "name": "ipython",
    "version": 2
   },
   "file_extension": ".py",
   "mimetype": "text/x-python",
   "name": "python",
   "nbconvert_exporter": "python",
   "pygments_lexer": "ipython2",
   "version": "2.7.6"
  }
 },
 "nbformat": 4,
 "nbformat_minor": 5
}
